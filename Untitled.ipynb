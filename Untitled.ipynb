{
 "cells": [
  {
   "cell_type": "markdown",
   "metadata": {},
   "source": [
    "Importamos todas las librerías necesarias"
   ]
  },
  {
   "cell_type": "code",
   "execution_count": 1,
   "metadata": {
    "collapsed": true
   },
   "outputs": [],
   "source": [
    "from sklearn.datasets import fetch_mldata\n",
    "from sklearn.datasets import load_digits\n",
    "from sklearn.model_selection import train_test_split\n",
    "from sklearn.linear_model import SGDClassifier\n",
    "from sklearn.metrics import precision_score, recall_score, f1_score, confusion_matrix, precision_recall_curve\n",
    "from sklearn.model_selection import cross_val_predict, cross_val_score\n",
    "from sklearn.metrics import roc_curve\n",
    "from sklearn.metrics import roc_auc_score\n",
    "import numpy as np\n",
    "import matplotlib.pyplot as plt\n",
    "from sklearn.preprocessing import StandardScaler\n",
    "from sklearn.ensemble import RandomForestClassifier\n",
    "plt.rcParams[\"figure.figsize\"] = (10,7)"
   ]
  },
  {
   "cell_type": "markdown",
   "metadata": {},
   "source": [
    "Cargamos el dataset de dígitos y lo exploramos"
   ]
  },
  {
   "cell_type": "code",
   "execution_count": 2,
   "metadata": {},
   "outputs": [
    {
     "name": "stdout",
     "output_type": "stream",
     "text": [
      "Optical Recognition of Handwritten Digits Data Set\n",
      "===================================================\n",
      "\n",
      "Notes\n",
      "-----\n",
      "Data Set Characteristics:\n",
      "    :Number of Instances: 5620\n",
      "    :Number of Attributes: 64\n",
      "    :Attribute Information: 8x8 image of integer pixels in the range 0..16.\n",
      "    :Missing Attribute Values: None\n",
      "    :Creator: E. Alpaydin (alpaydin '@' boun.edu.tr)\n",
      "    :Date: July; 1998\n",
      "\n",
      "This is a copy of the test set of the UCI ML hand-written digits datasets\n",
      "http://archive.ics.uci.edu/ml/datasets/Optical+Recognition+of+Handwritten+Digits\n",
      "\n",
      "The data set contains images of hand-written digits: 10 classes where\n",
      "each class refers to a digit.\n",
      "\n",
      "Preprocessing programs made available by NIST were used to extract\n",
      "normalized bitmaps of handwritten digits from a preprinted form. From a\n",
      "total of 43 people, 30 contributed to the training set and different 13\n",
      "to the test set. 32x32 bitmaps are divided into nonoverlapping blocks of\n",
      "4x4 and the number of on pixels are counted in each block. This generates\n",
      "an input matrix of 8x8 where each element is an integer in the range\n",
      "0..16. This reduces dimensionality and gives invariance to small\n",
      "distortions.\n",
      "\n",
      "For info on NIST preprocessing routines, see M. D. Garris, J. L. Blue, G.\n",
      "T. Candela, D. L. Dimmick, J. Geist, P. J. Grother, S. A. Janet, and C.\n",
      "L. Wilson, NIST Form-Based Handprint Recognition System, NISTIR 5469,\n",
      "1994.\n",
      "\n",
      "References\n",
      "----------\n",
      "  - C. Kaynak (1995) Methods of Combining Multiple Classifiers and Their\n",
      "    Applications to Handwritten Digit Recognition, MSc Thesis, Institute of\n",
      "    Graduate Studies in Science and Engineering, Bogazici University.\n",
      "  - E. Alpaydin, C. Kaynak (1998) Cascading Classifiers, Kybernetika.\n",
      "  - Ken Tang and Ponnuthurai N. Suganthan and Xi Yao and A. Kai Qin.\n",
      "    Linear dimensionalityreduction using relevance weighted LDA. School of\n",
      "    Electrical and Electronic Engineering Nanyang Technological University.\n",
      "    2005.\n",
      "  - Claudio Gentile. A New Approximate Maximal Margin Classification\n",
      "    Algorithm. NIPS. 2000.\n",
      "\n"
     ]
    }
   ],
   "source": [
    "digits = load_digits()\n",
    "print(digits.DESCR)"
   ]
  },
  {
   "cell_type": "code",
   "execution_count": 3,
   "metadata": {},
   "outputs": [
    {
     "name": "stdout",
     "output_type": "stream",
     "text": [
      "[0 1 2 3 4 5 6 7 8 9]\n",
      "[0 1 2 ..., 8 9 8]\n",
      "[[  0.   0.   5. ...,   0.   0.   0.]\n",
      " [  0.   0.   0. ...,  10.   0.   0.]\n",
      " [  0.   0.   0. ...,  16.   9.   0.]\n",
      " ..., \n",
      " [  0.   0.   1. ...,   6.   0.   0.]\n",
      " [  0.   0.   2. ...,  12.   0.   0.]\n",
      " [  0.   0.  10. ...,  12.   1.   0.]]\n",
      "[[[  0.   0.   5. ...,   1.   0.   0.]\n",
      "  [  0.   0.  13. ...,  15.   5.   0.]\n",
      "  [  0.   3.  15. ...,  11.   8.   0.]\n",
      "  ..., \n",
      "  [  0.   4.  11. ...,  12.   7.   0.]\n",
      "  [  0.   2.  14. ...,  12.   0.   0.]\n",
      "  [  0.   0.   6. ...,   0.   0.   0.]]\n",
      "\n",
      " [[  0.   0.   0. ...,   5.   0.   0.]\n",
      "  [  0.   0.   0. ...,   9.   0.   0.]\n",
      "  [  0.   0.   3. ...,   6.   0.   0.]\n",
      "  ..., \n",
      "  [  0.   0.   1. ...,   6.   0.   0.]\n",
      "  [  0.   0.   1. ...,   6.   0.   0.]\n",
      "  [  0.   0.   0. ...,  10.   0.   0.]]\n",
      "\n",
      " [[  0.   0.   0. ...,  12.   0.   0.]\n",
      "  [  0.   0.   3. ...,  14.   0.   0.]\n",
      "  [  0.   0.   8. ...,  16.   0.   0.]\n",
      "  ..., \n",
      "  [  0.   9.  16. ...,   0.   0.   0.]\n",
      "  [  0.   3.  13. ...,  11.   5.   0.]\n",
      "  [  0.   0.   0. ...,  16.   9.   0.]]\n",
      "\n",
      " ..., \n",
      " [[  0.   0.   1. ...,   1.   0.   0.]\n",
      "  [  0.   0.  13. ...,   2.   1.   0.]\n",
      "  [  0.   0.  16. ...,  16.   5.   0.]\n",
      "  ..., \n",
      "  [  0.   0.  16. ...,  15.   0.   0.]\n",
      "  [  0.   0.  15. ...,  16.   0.   0.]\n",
      "  [  0.   0.   2. ...,   6.   0.   0.]]\n",
      "\n",
      " [[  0.   0.   2. ...,   0.   0.   0.]\n",
      "  [  0.   0.  14. ...,  15.   1.   0.]\n",
      "  [  0.   4.  16. ...,  16.   7.   0.]\n",
      "  ..., \n",
      "  [  0.   0.   0. ...,  16.   2.   0.]\n",
      "  [  0.   0.   4. ...,  16.   2.   0.]\n",
      "  [  0.   0.   5. ...,  12.   0.   0.]]\n",
      "\n",
      " [[  0.   0.  10. ...,   1.   0.   0.]\n",
      "  [  0.   2.  16. ...,   1.   0.   0.]\n",
      "  [  0.   0.  15. ...,  15.   0.   0.]\n",
      "  ..., \n",
      "  [  0.   4.  16. ...,  16.   6.   0.]\n",
      "  [  0.   8.  16. ...,  16.   8.   0.]\n",
      "  [  0.   1.   8. ...,  12.   1.   0.]]]\n"
     ]
    }
   ],
   "source": [
    "print(digits.target_names)\n",
    "print(digits.target)\n",
    "print(digits.data)\n",
    "print(digits.images)"
   ]
  },
  {
   "cell_type": "markdown",
   "metadata": {},
   "source": [
    "Vamos a proceder a mostrar algunos ejemplos del dataset"
   ]
  },
  {
   "cell_type": "code",
   "execution_count": 4,
   "metadata": {},
   "outputs": [
    {
     "data": {
      "image/png": "[encoded data removed]",
      "text/plain": [
       "<matplotlib.figure.Figure at 0x7ff44012ba90>"
      ]
     },
     "metadata": {},
     "output_type": "display_data"
    }
   ],
   "source": [
    "for i in range(64):\n",
    "    plt.subplot(8,8,i+1)\n",
    "    plt.imshow(digits.images[i], cmap=plt.cm.gray_r, interpolation='nearest')\n",
    "    plt.axis(\"off\")\n",
    "    plt.title(str(digits.target[i]))\n",
    "    \n",
    "plt.subplots_adjust(top=0.92, bottom=0.008, left=0.10, right=0.95, hspace=1,\n",
    "                    wspace=0.35)\n",
    "plt.show() "
   ]
  },
  {
   "cell_type": "markdown",
   "metadata": {},
   "source": [
    "Barajamos el dataset y lo dividimos en train y en test, además de escalar las features"
   ]
  },
  {
   "cell_type": "code",
   "execution_count": 5,
   "metadata": {},
   "outputs": [
    {
     "name": "stdout",
     "output_type": "stream",
     "text": [
      "X Shape:  (1797, 64) y Shape:  (1797,)\n",
      "X_train Shape:  (1437, 64) y_train Shape:  (1437,)\n",
      "X_test Shape:  (360, 64) y_test Shape:  (360,)\n"
     ]
    }
   ],
   "source": [
    "X,y = digits.data, digits.target\n",
    "shuffle_idx = np.random.permutation(X.shape[0])\n",
    "X,y = X[shuffle_idx], y[shuffle_idx]\n",
    "X_train, X_test, y_train, y_test = train_test_split(X,y, test_size = 0.2, random_state=43)\n",
    "#scaler = StandardScaler()\n",
    "#X_train = scaler.fit_transform(X_train)\n",
    "print(\"X Shape: \", X.shape, \"y Shape: \", y.shape)\n",
    "print(\"X_train Shape: \", X_train.shape, \"y_train Shape: \", y_train.shape)\n",
    "print(\"X_test Shape: \", X_test.shape, \"y_test Shape: \", y_test.shape)"
   ]
  },
  {
   "cell_type": "markdown",
   "metadata": {},
   "source": [
    "Primero vamos a probar un clasificador binario donde diferencia los números pares de los impares"
   ]
  },
  {
   "cell_type": "code",
   "execution_count": 6,
   "metadata": {},
   "outputs": [
    {
     "data": {
      "text/plain": [
       "SGDClassifier(alpha=0.0001, average=False, class_weight=None, epsilon=0.1,\n",
       "       eta0=0.0, fit_intercept=True, l1_ratio=0.15,\n",
       "       learning_rate='optimal', loss='hinge', max_iter=5, n_iter=None,\n",
       "       n_jobs=1, penalty='l2', power_t=0.5, random_state=None,\n",
       "       shuffle=True, tol=None, verbose=0, warm_start=False)"
      ]
     },
     "execution_count": 6,
     "metadata": {},
     "output_type": "execute_result"
    }
   ],
   "source": [
    "y_train_binary = (y_train%2==0)\n",
    "y_test_binary = (y_test%2==0)\n",
    "binary_clf = SGDClassifier(max_iter=5, tol=None)\n",
    "binary_clf.fit(X_train,y_train_binary)"
   ]
  },
  {
   "cell_type": "markdown",
   "metadata": {},
   "source": [
    "Observamos que obtenemos una accuracy de un ~ 90% en validación cruzada. Vamos a mostrar métricas más utiles para clasificación, es decir, precisión, recall, f1 y la matriz de confusión"
   ]
  },
  {
   "cell_type": "code",
   "execution_count": 7,
   "metadata": {},
   "outputs": [
    {
     "data": {
      "text/plain": [
       "array([ 0.83298539,  0.93319415,  0.89352818])"
      ]
     },
     "execution_count": 7,
     "metadata": {},
     "output_type": "execute_result"
    }
   ],
   "source": [
    "cross_val_score(binary_clf, X_train, y_train_binary, cv=3)"
   ]
  },
  {
   "cell_type": "code",
   "execution_count": 8,
   "metadata": {},
   "outputs": [
    {
     "name": "stdout",
     "output_type": "stream",
     "text": [
      "Precisión: 0.871468926554\n",
      "Recall 0.908689248895\n",
      "F1_score 0.889689978371\n",
      "Matriz de confusión\n",
      " [[667  91]\n",
      " [ 62 617]]\n"
     ]
    },
    {
     "data": {
      "text/plain": [
       "<matplotlib.image.AxesImage at 0x7ff43b55e6d8>"
      ]
     },
     "execution_count": 8,
     "metadata": {},
     "output_type": "execute_result"
    },
    {
     "data": {
      "image/png": "[encoded data removed]",
      "text/plain": [
       "<matplotlib.figure.Figure at 0x7ff43baaea58>"
      ]
     },
     "metadata": {},
     "output_type": "display_data"
    }
   ],
   "source": [
    "y_train_pred = cross_val_predict(binary_clf,X_train, y_train_binary, cv=3)\n",
    "precision = precision_score(y_train_pred, y_train_binary)\n",
    "recall = recall_score(y_train_pred, y_train_binary)\n",
    "f1 = f1_score(y_train_pred,y_train_binary)\n",
    "cm = confusion_matrix(y_train_pred, y_train_binary)\n",
    "print(\"Precisión:\", precision)\n",
    "print(\"Recall\", recall)\n",
    "print(\"F1_score\", f1)\n",
    "print(\"Matriz de confusión\\n\", cm)\n",
    "y_scores = cross_val_predict(binary_clf, X_train, y_train_binary, cv=5, method=\"decision_function\")\n",
    "plt.matshow(cm,cmap=\"gray\")"
   ]
  },
  {
   "cell_type": "markdown",
   "metadata": {},
   "source": [
    "Vamos a presentar ahora el equilibrio existente entre precisión y recall"
   ]
  },
  {
   "cell_type": "code",
   "execution_count": 9,
   "metadata": {
    "scrolled": true
   },
   "outputs": [
    {
     "data": {
      "image/png": "[encoded data removed]",
      "text/plain": [
       "<matplotlib.figure.Figure at 0x7ff46cc262e8>"
      ]
     },
     "metadata": {},
     "output_type": "display_data"
    }
   ],
   "source": [
    "precisions, recalls, thresholds = precision_recall_curve(y_train_binary, y_scores[:,1])\n",
    "plt.plot(thresholds, precisions[:-1], label=\"Precision\")\n",
    "plt.plot(thresholds, recalls[:-1], label=\"Recall\")\n",
    "plt.xlabel(\"Thresholds\")\n",
    "plt.legend()\n",
    "plt.title(\"Precision-Recall Curve\")\n",
    "plt.show()"
   ]
  },
  {
   "cell_type": "markdown",
   "metadata": {},
   "source": [
    "Mostramos directamente la precisión contra el recall"
   ]
  },
  {
   "cell_type": "code",
   "execution_count": 10,
   "metadata": {},
   "outputs": [
    {
     "data": {
      "image/png": "[encoded data removed]",
      "text/plain": [
       "<matplotlib.figure.Figure at 0x7ff44012b6d8>"
      ]
     },
     "metadata": {},
     "output_type": "display_data"
    }
   ],
   "source": [
    "plt.plot(recalls,precisions)\n",
    "plt.xlabel(\"Recall\")\n",
    "plt.ylabel(\"Precision\")\n",
    "plt.title(\"Precision vs Recall\")\n",
    "plt.show()"
   ]
  },
  {
   "cell_type": "markdown",
   "metadata": {},
   "source": [
    "Vamos a mostrar la curva ROC, en azul el clasificador que hemos entrado y en naranja un clasificador que calisifica aleatoriamente. Por último mostramos el area bajo la curva (0.94)"
   ]
  },
  {
   "cell_type": "code",
   "execution_count": 11,
   "metadata": {},
   "outputs": [
    {
     "data": {
      "image/png": "[encoded data removed]",
      "text/plain": [
       "<matplotlib.figure.Figure at 0x7ff43b077ef0>"
      ]
     },
     "metadata": {},
     "output_type": "display_data"
    },
    {
     "data": {
      "text/plain": [
       "0.96411286260104012"
      ]
     },
     "execution_count": 11,
     "metadata": {},
     "output_type": "execute_result"
    }
   ],
   "source": [
    "fpr, tpr, thresholds = roc_curve(y_train_binary, y_scores[:,1])\n",
    "plt.plot(fpr,tpr)\n",
    "plt.plot([0,1],[0,1])\n",
    "plt.xlabel(\"False Negative Rate\")\n",
    "plt.ylabel(\"True Positive Rate\")\n",
    "plt.title(\"ROC Curve\")\n",
    "plt.show()\n",
    "\n",
    "roc_auc_score(y_train_binary, y_scores[:,1])"
   ]
  },
  {
   "cell_type": "markdown",
   "metadata": {},
   "source": [
    "Solamente por motivos de comparación vamos a entrenar un RandomForest y vamos a hacer una gráfica del area bajo la curva que obtenemos con este clasificador y con el clasificador de gradiente descendiente estocástico."
   ]
  },
  {
   "cell_type": "code",
   "execution_count": 12,
   "metadata": {},
   "outputs": [
    {
     "data": {
      "text/plain": [
       "array([ 0.95833333,  0.97222222,  0.95833333,  0.94076655,  0.95104895])"
      ]
     },
     "execution_count": 12,
     "metadata": {},
     "output_type": "execute_result"
    }
   ],
   "source": [
    "binary_rf = RandomForestClassifier()\n",
    "cross_val_score(binary_rf, X_train, y_train_binary, cv=5)"
   ]
  },
  {
   "cell_type": "code",
   "execution_count": 13,
   "metadata": {},
   "outputs": [
    {
     "data": {
      "image/png": "[encoded data removed]",
      "text/plain": [
       "<matplotlib.figure.Figure at 0x7ff4746bb4e0>"
      ]
     },
     "metadata": {},
     "output_type": "display_data"
    },
    {
     "data": {
      "text/plain": [
       "0.9948995605775266"
      ]
     },
     "execution_count": 13,
     "metadata": {},
     "output_type": "execute_result"
    }
   ],
   "source": [
    "y_scores = cross_val_predict(binary_rf, X_train, y_train_binary, cv=5, method=\"predict_proba\")\n",
    "fpr_rf, tpr_rf, thresholds_rf = roc_curve(y_train_binary, y_scores[:,1])\n",
    "plt.plot(fpr,tpr, label=\"SGD\")\n",
    "plt.plot(fpr_rf,tpr_rf, label=\"RandomForest\")\n",
    "plt.plot([0,1],[0,1])\n",
    "plt.xlabel(\"False Negative Rate\")\n",
    "plt.ylabel(\"True Positive Rate\")\n",
    "plt.title(\"ROC Curve [SGD-RF]\")\n",
    "plt.legend()\n",
    "plt.show()\n",
    "\n",
    "roc_auc_score(y_train_binary, y_scores[:,1])"
   ]
  },
  {
   "cell_type": "code",
   "execution_count": 14,
   "metadata": {},
   "outputs": [
    {
     "name": "stdout",
     "output_type": "stream",
     "text": [
      "¿9 es par? False\n"
     ]
    }
   ],
   "source": [
    "predicted = binary_clf.predict([X_test[9]])\n",
    "print(\"¿{} es par? {}\".format(y_test[9],predicted[0]))\n"
   ]
  },
  {
   "cell_type": "markdown",
   "metadata": {},
   "source": [
    "Vamos a realizar ahora una clasificación multiclase. Anteriormente nos hemos centrado en precedir si el número es par o impar, ahora vamos a tratar de predecir la clase a la que pertenece, esto es si la imagen representa un 8 nos debería devolver un 8"
   ]
  },
  {
   "cell_type": "code",
   "execution_count": 15,
   "metadata": {},
   "outputs": [
    {
     "data": {
      "text/plain": [
       "array([ 0.95547945,  0.95138889,  0.95833333,  0.8989547 ,  0.87943262])"
      ]
     },
     "execution_count": 15,
     "metadata": {},
     "output_type": "execute_result"
    }
   ],
   "source": [
    "clf = SGDClassifier(max_iter=5, tol=None)\n",
    "clf.fit(X_train,y_train)\n",
    "cross_val_score(clf,X_train, y_train, cv=5)"
   ]
  },
  {
   "cell_type": "code",
   "execution_count": 16,
   "metadata": {},
   "outputs": [
    {
     "data": {
      "text/plain": [
       "array([[133,   0,   0,   0,   1,   0,   1,   0,   0,   0],\n",
       "       [  1, 144,   2,   0,   3,   5,   5,   1,  10,   7],\n",
       "       [  0,   1, 136,   1,   0,   1,   0,   0,   1,   0],\n",
       "       [  0,   3,   1, 140,   0,   0,   0,   2,   3,   5],\n",
       "       [  1,   1,   0,   0, 140,   0,   0,   1,   0,   2],\n",
       "       [  0,   0,   0,   2,   0, 135,   0,   0,   2,   2],\n",
       "       [  0,   2,   0,   0,   0,   1, 137,   0,   1,   0],\n",
       "       [  1,   0,   0,   1,   1,   1,   0, 127,   1,   1],\n",
       "       [  0,   2,   0,   1,   2,   0,   1,   1, 122,   9],\n",
       "       [  0,   1,   0,   1,   1,   1,   0,   2,   1, 125]])"
      ]
     },
     "execution_count": 16,
     "metadata": {},
     "output_type": "execute_result"
    }
   ],
   "source": [
    "y_train_pred = cross_val_predict(clf, X_train, y_train, cv=5)\n",
    "cm = confusion_matrix(y_train_pred, y_train)\n",
    "cm"
   ]
  },
  {
   "cell_type": "code",
   "execution_count": 17,
   "metadata": {},
   "outputs": [
    {
     "data": {
      "image/png": "[encoded data removed]",
      "text/plain": [
       "<matplotlib.figure.Figure at 0x7ff43b040978>"
      ]
     },
     "metadata": {},
     "output_type": "display_data"
    }
   ],
   "source": [
    "plt.matshow(cm, cmap=\"gray\")\n",
    "plt.show()"
   ]
  },
  {
   "cell_type": "markdown",
   "metadata": {},
   "source": [
    "Vamos a precedir la etiqueta de un ejemplo del conjunto de test. concretamente vamos a coger la segunda muestra y al dibujarla en pantalla podemos observar que la clase es un 3 y efectivamente el clasificador la clasifica como 3."
   ]
  },
  {
   "cell_type": "code",
   "execution_count": 18,
   "metadata": {},
   "outputs": [
    {
     "data": {
      "image/png": "[encoded data removed]",
      "text/plain": [
       "<matplotlib.figure.Figure at 0x7ff43afe2f28>"
      ]
     },
     "metadata": {},
     "output_type": "display_data"
    }
   ],
   "source": [
    "plt.imshow(X_test[9].reshape(8,8), cmap=plt.cm.gray_r, interpolation='nearest')\n",
    "plt.axis(\"off\")\n",
    "plt.title(str(y_test[9]))\n",
    "plt.show() "
   ]
  },
  {
   "cell_type": "code",
   "execution_count": 19,
   "metadata": {},
   "outputs": [
    {
     "name": "stdout",
     "output_type": "stream",
     "text": [
      "¿9 es igual a 9? [ True]\n"
     ]
    }
   ],
   "source": [
    "predicted = clf.predict([X_test[9]])\n",
    "print(\"¿{} es igual a {}? {}\".format(predicted[0], y_test[9], predicted==y_test[9]))"
   ]
  },
  {
   "cell_type": "markdown",
   "metadata": {},
   "source": [
    "Vamos a imprimir las metricas tanto para el clasificador multiclase basado en SGD como en RandomForest"
   ]
  },
  {
   "cell_type": "code",
   "execution_count": 20,
   "metadata": {},
   "outputs": [
    {
     "name": "stdout",
     "output_type": "stream",
     "text": [
      "Precisión para cada una de las clases:\n",
      " [ 0.95238095  0.57142857  0.97368421  1.          0.93939394  0.89473684\n",
      "  1.          0.86666667  0.36363636  0.96551724]\n",
      "Recall para cada una de las clases:\n",
      " [ 1.          1.          0.925       0.64912281  0.73809524  1.\n",
      "  0.94871795  1.          1.          0.68292683]\n",
      "Puntuación f1 para cada una de las clases:\n",
      " [ 0.97560976  0.72727273  0.94871795  0.78723404  0.82666667  0.94444444\n",
      "  0.97368421  0.92857143  0.53333333  0.8       ]\n",
      "Precision media 0.852744478752\n",
      "Recall medio 0.89438628231\n",
      "Puntuación f1 media 0.844553455818\n"
     ]
    }
   ],
   "source": [
    "y_pred = clf.predict(X_test)\n",
    "precision = precision_score(y_pred, y_test, average=None)\n",
    "recall = recall_score(y_pred, y_test, average=None)\n",
    "f1 = f1_score(y_pred, y_test, average=None)\n",
    "print(\"Precisión para cada una de las clases:\\n\", precision)\n",
    "print(\"Recall para cada una de las clases:\\n\", recall)\n",
    "print(\"Puntuación f1 para cada una de las clases:\\n\", f1)\n",
    "print(\"Precision media\", precision.mean())\n",
    "print(\"Recall medio\", recall.mean())\n",
    "print(\"Puntuación f1 media\", f1.mean())"
   ]
  },
  {
   "cell_type": "code",
   "execution_count": 21,
   "metadata": {},
   "outputs": [
    {
     "data": {
      "text/plain": [
       "array([ 0.94616977,  0.93305439,  0.90336134])"
      ]
     },
     "execution_count": 21,
     "metadata": {},
     "output_type": "execute_result"
    }
   ],
   "source": [
    "rf = RandomForestClassifier()\n",
    "rf.fit(X_train,y_train)\n",
    "cross_val_score(rf,X_train, y_train, cv=3)"
   ]
  },
  {
   "cell_type": "code",
   "execution_count": 22,
   "metadata": {},
   "outputs": [
    {
     "name": "stdout",
     "output_type": "stream",
     "text": [
      "Precisión para cada una de las clases:\n",
      " [ 0.97619048  1.          0.94736842  0.91891892  0.93939394  0.97368421\n",
      "  0.94594595  0.95555556  0.84848485  0.93103448]\n",
      "Recall para cada una de las clases:\n",
      " [ 0.97619048  0.84848485  0.97297297  0.94444444  0.91176471  1.\n",
      "  0.97222222  0.95555556  0.96551724  0.87096774]\n",
      "Puntuación f1 para cada una de las clases:\n",
      " [ 0.97619048  0.91803279  0.96        0.93150685  0.92537313  0.98666667\n",
      "  0.95890411  0.95555556  0.90322581  0.9       ]\n",
      "Precision media 0.943657679883\n",
      "Recall medio 0.941812020907\n",
      "Puntuación f1 media 0.941545538498\n"
     ]
    }
   ],
   "source": [
    "y_pred = rf.predict(X_test)\n",
    "precision = precision_score(y_pred, y_test, average=None)\n",
    "recall = recall_score(y_pred, y_test, average=None)\n",
    "f1 = f1_score(y_pred, y_test, average=None)\n",
    "print(\"Precisión para cada una de las clases:\\n\", precision)\n",
    "print(\"Recall para cada una de las clases:\\n\", recall)\n",
    "print(\"Puntuación f1 para cada una de las clases:\\n\", f1)\n",
    "print(\"Precision media\", precision.mean())\n",
    "print(\"Recall medio\", recall.mean())\n",
    "print(\"Puntuación f1 media\", f1.mean())"
   ]
  }
 ],
 "metadata": {
  "kernelspec": {
   "display_name": "Python 3",
   "language": "python",
   "name": "python3"
  },
  "language_info": {
   "codemirror_mode": {
    "name": "ipython",
    "version": 3
   },
   "file_extension": ".py",
   "mimetype": "text/x-python",
   "name": "python",
   "nbconvert_exporter": "python",
   "pygments_lexer": "ipython3",
   "version": "3.5.4"
  },
  "widgets": {
   "state": {},
   "version": "1.1.2"
  }
 },
 "nbformat": 4,
 "nbformat_minor": 2
}
